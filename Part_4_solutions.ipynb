{
 "cells": [
  {
   "cell_type": "code",
   "execution_count": null,
   "metadata": {},
   "outputs": [],
   "source": [
    "def get_loglikelihood(locs, targets):\n",
    "    likelihood_dist = tf.distributions.Normal(  # tf.contrib.distributions.OneHotCategorical\n",
    "        loc=locs, scale=noise_std, name=\"predicted_labels\")  \n",
    "    with tf.name_scope(\"log-likelihood\"):\n",
    "        loglikelihood = tf.reduce_sum(likelihood_dist.log_prob(targets))  \n",
    "    return loglikelihood"
   ]
  },
  {
   "cell_type": "code",
   "execution_count": null,
   "metadata": {},
   "outputs": [],
   "source": [
    "dim_in, dim_out = 1, 1\n",
    "num_iterations_train = 10000\n",
    "\n",
    "# There is no single \"solution\" for correct hyperparameters. \n",
    "# Also, we should have validate our model on a held-out dataset during training.\n",
    "dims_hidden = [32, 32]\n",
    "activations_hidden = [\"tanh\", \"tanh\"]\n",
    "batch_size = 16\n",
    "learning_rate = 5e-3"
   ]
  }
 ],
 "metadata": {
  "kernelspec": {
   "display_name": "Python 3",
   "language": "python",
   "name": "python3"
  },
  "language_info": {
   "codemirror_mode": {
    "name": "ipython",
    "version": 3
   },
   "file_extension": ".py",
   "mimetype": "text/x-python",
   "name": "python",
   "nbconvert_exporter": "python",
   "pygments_lexer": "ipython3",
   "version": "3.6.5"
  }
 },
 "nbformat": 4,
 "nbformat_minor": 2
}
