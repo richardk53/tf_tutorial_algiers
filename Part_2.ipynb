{
 "cells": [
  {
   "cell_type": "markdown",
   "metadata": {},
   "source": [
    "# Part 2: Complete example with low-level APIs"
   ]
  },
  {
   "cell_type": "markdown",
   "metadata": {},
   "source": [
    "In this part of the tutorial, we will implement a simple model, the appropriate loss function, gradient descent for optimization, and a simple training loop from scratch. \n",
    "<bl>\n",
    "In practice, you will often use higher-level APIs to do save some coding. \n",
    "But to understand what these high-level APIs do, we will first need to get our hands dirty with low-level API once again."
   ]
  },
  {
   "cell_type": "code",
   "execution_count": null,
   "metadata": {},
   "outputs": [],
   "source": [
    "import tensorflow as tf\n",
    "from tensorflow.examples.tutorials.mnist import input_data\n",
    "import matplotlib.pyplot as plt\n",
    "import numpy as np"
   ]
  },
  {
   "cell_type": "markdown",
   "metadata": {},
   "source": [
    "## Data"
   ]
  },
  {
   "cell_type": "code",
   "execution_count": 19,
   "metadata": {},
   "outputs": [
    {
     "name": "stdout",
     "output_type": "stream",
     "text": [
      "Extracting data/MNIST/train-images-idx3-ubyte.gz\n",
      "Extracting data/MNIST/train-labels-idx1-ubyte.gz\n",
      "Extracting data/MNIST/t10k-images-idx3-ubyte.gz\n",
      "Extracting data/MNIST/t10k-labels-idx1-ubyte.gz\n"
     ]
    }
   ],
   "source": [
    "data = input_data.read_data_sets(\"data/MNIST/\", one_hot=True)"
   ]
  },
  {
   "cell_type": "code",
   "execution_count": 2,
   "metadata": {},
   "outputs": [
    {
     "name": "stdout",
     "output_type": "stream",
     "text": [
      "The dataset is already split into training, validation and testing:\n",
      "Train:\t55000\n",
      "Val:\t5000\n",
      "Test:\t10000\n"
     ]
    }
   ],
   "source": [
    "print(\"The dataset is already split into training, validation and testing:\")\n",
    "print(\"Train:\\t{}\".format(len(data.train.labels)))\n",
    "print(\"Val:\\t{}\".format(len(data.validation.labels)))\n",
    "print(\"Test:\\t{}\".format(len(data.test.labels)))"
   ]
  },
  {
   "cell_type": "code",
   "execution_count": 3,
   "metadata": {},
   "outputs": [
    {
     "name": "stdout",
     "output_type": "stream",
     "text": [
      "inputs shape: (42, 784)\n",
      "targets shape: (42, 10)\n"
     ]
    }
   ],
   "source": [
    "# We can extract *random* batches from the training data as follows\n",
    "batch_inputs, batch_targets = data.train.next_batch(batch_size=42)\n",
    "print(\"inputs shape: {}\".format(batch_inputs.shape))\n",
    "print(\"targets shape: {}\".format(batch_targets.shape))"
   ]
  },
  {
   "cell_type": "code",
   "execution_count": 4,
   "metadata": {},
   "outputs": [
    {
     "name": "stdout",
     "output_type": "stream",
     "text": [
      "target: [1. 0. 0. 0. 0. 0. 0. 0. 0. 0.]\n"
     ]
    },
    {
     "data": {
      "image/png": "[encoded data removed]",
      "text/plain": [
       "<Figure size 432x288 with 1 Axes>"
      ]
     },
     "metadata": {},
     "output_type": "display_data"
    }
   ],
   "source": [
    "# Lets plot a random sample input and target from the batch.\n",
    "idx = 0  \n",
    "plt.figure()\n",
    "plt.imshow(np.reshape(batch_inputs[idx], [28, 28]), cmap='gray')\n",
    "print(\"target: {}\".format(batch_targets[idx]))"
   ]
  },
  {
   "cell_type": "markdown",
   "metadata": {},
   "source": [
    "## Model"
   ]
  },
  {
   "cell_type": "code",
   "execution_count": 5,
   "metadata": {},
   "outputs": [],
   "source": [
    "class LinearModel():\n",
    "    def __init__(self, dim_in, dim_out):\n",
    "        # Note: Ignore these initializers for now, we will discuss them later when we build Neural Networks.\n",
    "        weights_initializer = tf.initializers.variance_scaling(scale=1.0, mode=\"fan_in\", distribution=\"Normal\")\n",
    "        bias_initializer = tf.initializers.constant(0.0)  # Bias can be initialized with all zeros\n",
    "\n",
    "        self.weights = tf.get_variable(shape=[dim_in, dim_out], name=\"weights\", initializer=weights_initializer)\n",
    "        self.biases = tf.get_variable(shape=[dim_out], name=\"biases\", initializer=bias_initializer)\n",
    "        \n",
    "    def __call__(self, inputs):\n",
    "        outputs = tf.add(self.biases, tf.matmul(inputs, self.weights))\n",
    "        return outputs\n",
    "    \n",
    "class MLP():\n",
    "    def __init__(self, dim_in, dims_hidden, dim_out):\n",
    "        # Note: Ignore these initializers for now, we will discuss them later when we build Neural Networks.\n",
    "        weights_initializer = tf.initializers.variance_scaling(scale=1.0, mode=\"fan_in\", distribution=\"Normal\")\n",
    "        bias_initializer = tf.initializers.constant(0.0)  # Bias can be initialized with all zeros\n",
    "        \n",
    "        self.num_layers = len(dims_hidden) + 1\n",
    "        \n",
    "        dims_in = [dim_in] + list(dims_hidden)\n",
    "        dims_out = list(dims_hidden) + [dim_out]\n",
    "        self.weights, self.biases = list(), list()\n",
    "        for idx_layer, (dim_in, dim_out) in enumerate(zip(dims_in, dims_out)):\n",
    "            self.weights.append(tf.get_variable(\n",
    "                shape=[dim_in, dim_out], \n",
    "                name=\"weights_{}\".format(idx_layer), \n",
    "                initializer=weights_initializer))\n",
    "            self.biases.append(tf.get_variable(\n",
    "                shape=[dim_out], \n",
    "                name=\"biases_{}\".format(idx_layer), \n",
    "                initializer=bias_initializer\n",
    "            ))\n",
    "            \n",
    "    def __call__(self, inputs):\n",
    "        x = inputs\n",
    "        for idx_layer in range(self.num_layers):\n",
    "            x = tf.add(self.biases[idx_layer], tf.matmul(x, self.weights[idx_layer]))\n",
    "            if not idx_layer == self.num_layers - 1:  # last layer\n",
    "                x = tf.nn.relu(x)\n",
    "        return x"
   ]
  },
  {
   "cell_type": "code",
   "execution_count": 6,
   "metadata": {},
   "outputs": [],
   "source": [
    "# images have 28*28 pixels. Targets 0-9 (categorical variable with 10 possible values)\n",
    "dim_in, dim_out = 784, 10\n",
    "batch_size = 128"
   ]
  },
  {
   "cell_type": "markdown",
   "metadata": {},
   "source": [
    "**Task 1 - Implement function**: Our model simply calculates a linear transformation of the inputs. \n",
    "The outputs can be interpreted as \"logits\", which are the logarithms of the unnormalized probabilities of our K=10 categories. \n",
    "<br>\n",
    "A common approach in (Bayesian) machine learning is to maximize the log-probability of the observed data under the model (likelihood principle). \n",
    "Equivalently, we minimize the cross-entropy between the observed and model distribution.\n",
    "<br>\n",
    "For categorical data, the data distribution is simply a dirac or \"one-hot\" distribution.\n",
    "\n",
    "To calculate the log-probabilities, you will need to\n",
    "<br>\n",
    "a) transform the output into a probability distribution \n",
    "<br>\n",
    "b) calculate the cross-entropy. \n",
    "<bl>\n",
    "**Hint**: The cross entropy (negative log-likelihood) is defined as follows:\n",
    "<br>\n",
    "$H(p_{\\text{data}}, p_{\\text{model}}) = \\sum_{k=1}^{K} p_{\\text{data}}(y_{k}) \\cdot (- \\log p_{\\text{model}}(y_k))$ "
   ]
  },
  {
   "cell_type": "code",
   "execution_count": 7,
   "metadata": {},
   "outputs": [],
   "source": [
    "# TODO: This shall be a task. Hide the solutions.\n",
    "# To complete both functions, you will need the following tf functions: \n",
    "# tf.cast, tf.reduce_sum, tf.argmax, tf.equal, tf.nn.softmax, tf.log\n",
    "\n",
    "def get_categorical_log_prob(logits, labels):\n",
    "    probs = tf.nn.softmax(logits)\n",
    "    labels = tf.cast(labels, tf.float32)\n",
    "    log_prob = tf.reduce_sum(labels * tf.log(probs + 1e-8), axis=-1)\n",
    "    return log_prob\n",
    "\n",
    "def get_accuracy(logits, labels):\n",
    "    correct_prediction = tf.equal(tf.argmax(logits, axis=-1), tf.argmax(labels, axis=-1))\n",
    "    accuracy = tf.reduce_mean(tf.cast(correct_prediction, tf.float32))\n",
    "    return accuracy"
   ]
  },
  {
   "cell_type": "code",
   "execution_count": 8,
   "metadata": {},
   "outputs": [],
   "source": [
    "tf.reset_default_graph()  # Might be helpful, if you rebuild your model.\n",
    "labels = tf.placeholder(shape=[batch_size, dim_out], dtype=tf.int32, name=\"targets\")\n",
    "inputs = tf.placeholder(shape=[batch_size, dim_in], dtype=tf.float32, name=\"inputs\")\n",
    "#model = LinearTransformModel(dim_in=dim_in, dim_out=dim_out)\n",
    "model = MLP(dim_in=dim_in, dims_hidden=[128, 128], dim_out=dim_out)\n",
    "logits = model(inputs) "
   ]
  },
  {
   "cell_type": "code",
   "execution_count": 9,
   "metadata": {},
   "outputs": [],
   "source": [
    "log_prob = get_categorical_log_prob(logits, labels)\n",
    "loss = - tf.reduce_sum(log_prob, axis=0)  # Maximize sum of *negative* log-probabilities. \n",
    "accuracy = get_accuracy(logits, labels)"
   ]
  },
  {
   "cell_type": "code",
   "execution_count": 10,
   "metadata": {},
   "outputs": [],
   "source": [
    "def gradient_descent_step(loss, variables, learning_rate):\n",
    "    gradients = tf.gradients(loss, variables)\n",
    "    var_updates = []\n",
    "    for grad, var in zip(gradients, variables):\n",
    "        step = var.assign_sub(learning_rate * grad)  # GD step of one single variable\n",
    "        var_updates.append(step)\n",
    "    gradient_descent_step_op = tf.group(*var_updates)  # all GD step operations grouped into one op.\n",
    "    return gradient_descent_step_op"
   ]
  },
  {
   "cell_type": "code",
   "execution_count": 11,
   "metadata": {},
   "outputs": [],
   "source": [
    "train_op = gradient_descent_step(loss, tf.global_variables(), 0.001)"
   ]
  },
  {
   "cell_type": "code",
   "execution_count": 12,
   "metadata": {},
   "outputs": [
    {
     "name": "stdout",
     "output_type": "stream",
     "text": [
      "iteration 0 of 20000\n",
      "iteration 1000 of 20000\n",
      "iteration 2000 of 20000\n",
      "iteration 3000 of 20000\n",
      "iteration 4000 of 20000\n",
      "iteration 5000 of 20000\n",
      "iteration 6000 of 20000\n",
      "iteration 7000 of 20000\n",
      "iteration 8000 of 20000\n",
      "iteration 9000 of 20000\n",
      "iteration 10000 of 20000\n",
      "iteration 11000 of 20000\n",
      "iteration 12000 of 20000\n",
      "iteration 13000 of 20000\n",
      "iteration 14000 of 20000\n",
      "iteration 15000 of 20000\n",
      "iteration 16000 of 20000\n",
      "iteration 17000 of 20000\n",
      "iteration 18000 of 20000\n",
      "iteration 19000 of 20000\n"
     ]
    }
   ],
   "source": [
    "train_losses, val_losses = [], []\n",
    "max_iter = 20000\n",
    "\n",
    "sess = tf.Session()\n",
    "sess.run(tf.global_variables_initializer()) # Initializes weights and biases.\n",
    "\n",
    "for iter_train in range(max_iter):  # Do 10k iterations of gradient descent\n",
    "    batch_inputs, batch_labels = data.train.next_batch(batch_size=batch_size)\n",
    "    feed_dict = {inputs: batch_inputs, labels: batch_labels}\n",
    "    _, train_loss_iter = sess.run([train_op, loss], feed_dict=feed_dict)  \n",
    "    train_losses.append(train_loss_iter)\n",
    "    if iter_train % 1000 == 0:\n",
    "        print(\"iteration {} of {}\".format(iter_train, max_iter))"
   ]
  },
  {
   "cell_type": "code",
   "execution_count": 13,
   "metadata": {},
   "outputs": [
    {
     "name": "stdout",
     "output_type": "stream",
     "text": [
      "Test accuracy is: 0.9786658883094788\n",
      "11.291608\n"
     ]
    }
   ],
   "source": [
    "num_samples_test = 10000\n",
    "test_losses, test_accuracies = list(), list()\n",
    "test_inputs, test_labels = data.test.images, data.test.labels\n",
    "for iter_test in range(int(num_samples_test / batch_size)):  # Do 10k iterations of gradient descent\n",
    "    batch_inputs = test_inputs[iter_test*batch_size:(iter_test+1)*batch_size]\n",
    "    batch_labels = test_labels[iter_test*batch_size:(iter_test+1)*batch_size]\n",
    "    feed_dict = {inputs:batch_inputs, labels: batch_labels}\n",
    "    test_loss_iter, test_accuracy_iter = sess.run([loss, accuracy], feed_dict=feed_dict)\n",
    "    test_losses.append(test_loss_iter)\n",
    "    test_accuracies.append(test_accuracy_iter)\n",
    "test_accuracy = np.mean(test_accuracies)\n",
    "print(\"Test accuracy is: {}\".format(test_accuracy))\n",
    "print(np.mean(test_losses))"
   ]
  },
  {
   "cell_type": "markdown",
   "metadata": {},
   "source": [
    "# Short recap"
   ]
  },
  {
   "cell_type": "markdown",
   "metadata": {},
   "source": [
    "The obrained accuracy is rather bad for this simple dataset. \n",
    "However, this was not the point of this tutorial. \n",
    "We chose a very simple model (linear) and used plain SGD for just a few (20k) training steps.\n",
    "\n",
    "We have implemented our model, loss, and optimization algorithm with the low-level tensorflow APIs. \n",
    "However, tensorflow also provides some very useful high-level APIs.\n",
    "<br>\n",
    "In the next tutorial, we will explore some of these APIs."
   ]
  },
  {
   "cell_type": "code",
   "execution_count": null,
   "metadata": {},
   "outputs": [],
   "source": []
  }
 ],
 "metadata": {
  "kernelspec": {
   "display_name": "Python 3",
   "language": "python",
   "name": "python3"
  },
  "language_info": {
   "codemirror_mode": {
    "name": "ipython",
    "version": 3
   },
   "file_extension": ".py",
   "mimetype": "text/x-python",
   "name": "python",
   "nbconvert_exporter": "python",
   "pygments_lexer": "ipython3",
   "version": "3.6.5"
  }
 },
 "nbformat": 4,
 "nbformat_minor": 2
}
