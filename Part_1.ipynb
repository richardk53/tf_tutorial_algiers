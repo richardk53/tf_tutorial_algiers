{
 "cells": [
  {
   "cell_type": "markdown",
   "metadata": {},
   "source": [
    "# Part 1: Tensorflow Mechanics "
   ]
  },
  {
   "cell_type": "markdown",
   "metadata": {},
   "source": [
    "Tensorflow has various high level APIs that allow you to build simple machine learning models and algorithms with just very few lines of code, by hiding from the user what's happening in the backround.\n",
    "This can save a lot of time if you are already familiar with tensorflow. \n",
    "<br>\n",
    "However, if you want to develop new models and algorithms, it is important to understand the underlying mechanics.\n",
    "Let's start from the bottom up!"
   ]
  },
  {
   "cell_type": "markdown",
   "metadata": {},
   "source": [
    "You are probably familiar with numpy and know that computations are executed as soon as the python interpreter executes that line of code. This is not the case in tensorflow! (Note: Eager execution will be covered later)\n",
    "<bl>\n",
    "The 2 core concepts of Tensorflow are symbolic dataflow **Graphs** and **Sessions**. \n",
    " - The **graph** represents the dataflow in your model in terms of mathematical **operations** between **tensors**. \n",
    " When *defining* the graph, the actual *computation* is not yet executed. \n",
    " This is in contrast to imperative programming (such as python itself, e.g. with numpy)\n",
    " - A **session** is the interface between your program in which the symbolic graph was defined, and the C++ runtime (backend). It enables running the graph."
   ]
  },
  {
   "cell_type": "code",
   "execution_count": 1,
   "metadata": {},
   "outputs": [],
   "source": [
    "import tensorflow as tf"
   ]
  },
  {
   "cell_type": "markdown",
   "metadata": {},
   "source": [
    "## Operations and Tensors"
   ]
  },
  {
   "cell_type": "markdown",
   "metadata": {},
   "source": [
    "The following code snippet creates 3 operations which will be automatically registered to the *default* graph."
   ]
  },
  {
   "cell_type": "code",
   "execution_count": 2,
   "metadata": {},
   "outputs": [],
   "source": [
    "a = tf.constant(0.5, dtype=tf.float32, name=\"a\")\n",
    "b = tf.constant(-4.0)  # default dtype is float32\n",
    "c = tf.multiply(a, b) "
   ]
  },
  {
   "cell_type": "markdown",
   "metadata": {},
   "source": [
    "The function tf.constant builds an **operation** that creates a constant when run in a **session**. It also returns a symbolic **tensor** that can be used for further graph building.\n",
    "<br>\n",
    "tf.multiply takes 2 **tensors** as inputs, builds the **operation** that will multiply these tensors when run in a session, and returns a symbolic **tensor**."
   ]
  },
  {
   "cell_type": "code",
   "execution_count": 3,
   "metadata": {},
   "outputs": [
    {
     "name": "stdout",
     "output_type": "stream",
     "text": [
      "Tensor(\"a:0\", shape=(), dtype=float32) Tensor(\"Const:0\", shape=(), dtype=float32) Tensor(\"Mul:0\", shape=(), dtype=float32) \n",
      "\n",
      "<dtype: 'float32'> <dtype: 'float32'> <dtype: 'float32'> \n",
      "\n",
      "() () () \n",
      "\n",
      "a:0 Const:0 Mul:0 \n",
      "\n"
     ]
    }
   ],
   "source": [
    "# Let's inspect the tensors\n",
    "print(a, b, c, \"\\n\")\n",
    "print(a.dtype, b.dtype, c.dtype, \"\\n\")\n",
    "print(a.shape, b.shape, c.shape, \"\\n\")\n",
    "print(a.name, b.name, c.name, \"\\n\")"
   ]
  },
  {
   "cell_type": "markdown",
   "metadata": {},
   "source": [
    "As can be seen the variable \"c\" was not actually computed yet. Let's contrast this with numpy"
   ]
  },
  {
   "cell_type": "code",
   "execution_count": 4,
   "metadata": {},
   "outputs": [
    {
     "name": "stdout",
     "output_type": "stream",
     "text": [
      "0.5 -4.0 -2.0\n"
     ]
    }
   ],
   "source": [
    "import numpy as np\n",
    "x = np.array(0.5, dtype=np.float32)\n",
    "y = np.array(-4.0, dtype=np.float32)  \n",
    "z = np.multiply(x, y)\n",
    "print(x, y, z)"
   ]
  },
  {
   "cell_type": "markdown",
   "metadata": {},
   "source": [
    "## Graphs"
   ]
  },
  {
   "cell_type": "markdown",
   "metadata": {},
   "source": [
    "The functions tf.constant and tf.multiply automatically register the respective **operation** to the current default graph.\n",
    "<br>\n",
    "**Note**: There is always a default graph. "
   ]
  },
  {
   "cell_type": "code",
   "execution_count": 5,
   "metadata": {},
   "outputs": [],
   "source": [
    "default_graph = tf.get_default_graph()"
   ]
  },
  {
   "cell_type": "code",
   "execution_count": 6,
   "metadata": {},
   "outputs": [
    {
     "name": "stdout",
     "output_type": "stream",
     "text": [
      "[<tf.Operation 'a' type=Const>, <tf.Operation 'Const' type=Const>, <tf.Operation 'Mul' type=Mul>] \n",
      "\n",
      "(<tf.Tensor 'a:0' shape=() dtype=float32>,)\n",
      "(<tf.Tensor 'Const:0' shape=() dtype=float32>,)\n",
      "(<tf.Tensor 'Mul:0' shape=() dtype=float32>,)\n"
     ]
    }
   ],
   "source": [
    "# Let's inspect the default graph and its registered operations\n",
    "print(default_graph.get_operations(), \"\\n\")\n",
    "for op in default_graph.get_operations():\n",
    "      print(op.values())"
   ]
  },
  {
   "cell_type": "markdown",
   "metadata": {},
   "source": [
    "We can also create a new graph manually and set it as the default graph. This is rarely needed, but it certainly helps to understand what tensorflow is doing in the background.\n",
    "<br>\n",
    "The following code creates a new graph, sets it as the default graph within the context block, and registers a few operations to it. "
   ]
  },
  {
   "cell_type": "code",
   "execution_count": 7,
   "metadata": {},
   "outputs": [],
   "source": [
    "graph_1 = tf.Graph()  # Construct a new graph\n",
    "with graph_1.as_default():  # default in this context block\n",
    "    a_1 = tf.constant(-1.0, name=\"a_1\")  # registers operation that constructs a (constant) tensor\n",
    "    b_1 = tf.constant(1.0, name=\"b_1\")  # also returns a symbolic tensor\n",
    "    c_1 = tf.multiply(a_1,b_1, name=\"c_1\")  # registers multiply operation and returns symbolic tensor"
   ]
  },
  {
   "cell_type": "code",
   "execution_count": 8,
   "metadata": {},
   "outputs": [
    {
     "name": "stdout",
     "output_type": "stream",
     "text": [
      "graph_2 is default graph within context: True\n",
      "graph_2 is default graph after context: False\n"
     ]
    }
   ],
   "source": [
    "graph_2 = tf.Graph()\n",
    "with graph_2.as_default():\n",
    "    print(\"graph_2 is default graph within context: {}\".format(graph_2 is tf.get_default_graph())) \n",
    "    a_2 = tf.constant(-2.0, )\n",
    "    b_2 = tf.constant(2.0)\n",
    "    c_2 = tf.multiply(a_2, b_2)\n",
    "print(\"graph_2 is default graph after context: {}\".format(graph_2 is tf.get_default_graph())) "
   ]
  },
  {
   "cell_type": "markdown",
   "metadata": {},
   "source": [
    "Let's inspect our new graphs and verify that the variables in the \"with\" context are registered to the correct graph. "
   ]
  },
  {
   "cell_type": "code",
   "execution_count": 9,
   "metadata": {},
   "outputs": [
    {
     "name": "stdout",
     "output_type": "stream",
     "text": [
      "(<tf.Tensor 'a_1:0' shape=() dtype=float32>,)\n",
      "(<tf.Tensor 'b_1:0' shape=() dtype=float32>,)\n",
      "(<tf.Tensor 'c_1:0' shape=() dtype=float32>,)\n"
     ]
    }
   ],
   "source": [
    "for op in graph_1.get_operations():\n",
    "      print(op.values())"
   ]
  },
  {
   "cell_type": "markdown",
   "metadata": {},
   "source": [
    "Our **tensors** will also have a handle to their respective graph (to which they were registered). "
   ]
  },
  {
   "cell_type": "code",
   "execution_count": 10,
   "metadata": {},
   "outputs": [
    {
     "name": "stdout",
     "output_type": "stream",
     "text": [
      "True True True\n",
      "False\n",
      "False\n"
     ]
    }
   ],
   "source": [
    "print(a_1.graph is graph_1, b_1.graph is graph_1, c_1.graph is graph_1)\n",
    "print(a_1.graph is graph_2)\n",
    "print(a_1.graph is tf.get_default_graph())"
   ]
  },
  {
   "cell_type": "markdown",
   "metadata": {},
   "source": [
    "**Note**: Tensorflow will keep adding new operations with unique names (appending \"_NUM\"), when you execute the functions (tf.constant, tf.multiply, etc.) multiple times.\n",
    "When prototyping with jupyter notebooks, a useful function is: tf.reset_default_graph()"
   ]
  },
  {
   "cell_type": "markdown",
   "metadata": {},
   "source": [
    "# Sessions"
   ]
  },
  {
   "cell_type": "code",
   "execution_count": 11,
   "metadata": {},
   "outputs": [],
   "source": [
    "sess = tf.Session()  "
   ]
  },
  {
   "cell_type": "code",
   "execution_count": 12,
   "metadata": {},
   "outputs": [
    {
     "name": "stdout",
     "output_type": "stream",
     "text": [
      "-2.0\n",
      "[0.5, -4.0, -2.0]\n",
      "{'a': 0.5, 'b': -4.0, 'c': -2.0}\n"
     ]
    }
   ],
   "source": [
    "print(sess.run(c))\n",
    "print(sess.run([a, b, c]))\n",
    "print(sess.run({\"a\":a, \"b\":b, \"c\":c}))"
   ]
  },
  {
   "cell_type": "markdown",
   "metadata": {},
   "source": [
    "When we create a session, it will be bound to the current default graph."
   ]
  },
  {
   "cell_type": "code",
   "execution_count": 13,
   "metadata": {},
   "outputs": [
    {
     "name": "stdout",
     "output_type": "stream",
     "text": [
      "Cannot run c_1 from current (default) graph.\n",
      "{'c_1': -1.0}\n"
     ]
    }
   ],
   "source": [
    "try:\n",
    "    print(sess.run(c_1))  # c_1 was registered at graph_1\n",
    "except:\n",
    "    print(\"Cannot run c_1 from current (default) graph.\")\n",
    "with graph_1.as_default():\n",
    "    tmp_sess = tf.Session()\n",
    "    print(tmp_sess.run({\"c_1\": c_1}))"
   ]
  },
  {
   "cell_type": "markdown",
   "metadata": {},
   "source": [
    "# Placeholders"
   ]
  },
  {
   "cell_type": "markdown",
   "metadata": {},
   "source": [
    "Placeholders are tensors, associated with an operation that replaces the placeholder with actual data when it is **run** using **session**. "
   ]
  },
  {
   "cell_type": "code",
   "execution_count": 14,
   "metadata": {},
   "outputs": [],
   "source": [
    "a_ph = tf.placeholder(shape=[], dtype=tf.float32, name=\"a_ph\")  # [] means scalar (tensor of rank 0)\n",
    "b_ph = tf.placeholder(shape=[], dtype=tf.float32, name=\"b_ph\")\n",
    "c_from_ph = tf.multiply(a_ph, b_ph)"
   ]
  },
  {
   "cell_type": "code",
   "execution_count": 15,
   "metadata": {},
   "outputs": [
    {
     "name": "stdout",
     "output_type": "stream",
     "text": [
      "Tensor(\"a_ph:0\", shape=(), dtype=float32) Tensor(\"b_ph:0\", shape=(), dtype=float32)\n"
     ]
    }
   ],
   "source": [
    "print(a_ph, b_ph)"
   ]
  },
  {
   "cell_type": "code",
   "execution_count": 16,
   "metadata": {},
   "outputs": [],
   "source": [
    "# try:\n",
    "#     result = sess.run(c_from_ph)  # This will not work, we must provide values for a_ph and b_ph\n",
    "# except TypeError:\n",
    "#     print(e)"
   ]
  },
  {
   "cell_type": "code",
   "execution_count": 17,
   "metadata": {},
   "outputs": [
    {
     "name": "stdout",
     "output_type": "stream",
     "text": [
      "6.2831855\n"
     ]
    }
   ],
   "source": [
    "feed_dict = {a_ph:2.0, b_ph:np.pi}  # {placeholder: data}, where data can be e.g. native python or numpy arrays.\n",
    "result = sess.run(c_from_ph, feed_dict=feed_dict)\n",
    "print(result)"
   ]
  },
  {
   "cell_type": "markdown",
   "metadata": {},
   "source": [
    "# Variables"
   ]
  },
  {
   "cell_type": "markdown",
   "metadata": {},
   "source": [
    "In tensorflow, the tf.Variable class represents shared, persistent state that exists between individual sess.run() calls. \n",
    "<br>\n",
    "For example, the weights and biases in neural networks or linear regression are stored as variables.\n",
    "<br>\n",
    "As variables live outside sess.run(), they must be initialized (once), before any operation that requires them can be evaluated."
   ]
  },
  {
   "cell_type": "code",
   "execution_count": 18,
   "metadata": {},
   "outputs": [],
   "source": [
    "batch_size = 10  # tf operations are broadcasted along the first dimension (batch).\n",
    "dim_in, dim_out = 5, 1"
   ]
  },
  {
   "cell_type": "code",
   "execution_count": 19,
   "metadata": {},
   "outputs": [],
   "source": [
    "inpt = tf.placeholder(shape=[batch_size, dim_in], dtype=tf.float32, name=\"input\")\n",
    "weights = tf.get_variable(shape=[dim_in, dim_out], name=\"weight\")\n",
    "bias = tf.get_variable(shape=[dim_out], name=\"bias\")\n",
    "outpt = tf.add(bias, tf.matmul(inpt, weights))"
   ]
  },
  {
   "cell_type": "code",
   "execution_count": 20,
   "metadata": {},
   "outputs": [],
   "source": [
    "init_all_vars_op = tf.global_variables_initializer()  # == tf.variables_initializer(tf.global_variables())\n",
    "sess.run(init_all_vars_op)"
   ]
  },
  {
   "cell_type": "code",
   "execution_count": 21,
   "metadata": {},
   "outputs": [],
   "source": [
    "batch = np.random.rand(batch_size, dim_in)\n",
    "feed_dict = {inpt: batch}\n",
    "result = sess.run(outpt, feed_dict=feed_dict)"
   ]
  },
  {
   "cell_type": "code",
   "execution_count": 23,
   "metadata": {},
   "outputs": [
    {
     "name": "stdout",
     "output_type": "stream",
     "text": [
      "[[ 0.73169905]\n",
      " [ 0.00094247]\n",
      " [ 0.36830303]\n",
      " [ 0.7220247 ]\n",
      " [ 0.22914588]\n",
      " [ 0.05983466]\n",
      " [ 0.29493755]\n",
      " [-0.15804785]\n",
      " [ 0.286295  ]\n",
      " [-0.30874217]]\n"
     ]
    }
   ],
   "source": [
    "print(result)"
   ]
  },
  {
   "cell_type": "markdown",
   "metadata": {},
   "source": [
    "# Short Recap "
   ]
  },
  {
   "cell_type": "markdown",
   "metadata": {},
   "source": [
    "The **Graph** comprises Operations, Tensors, Placeholders, Variables, as well as metadata.\n",
    "<br>\n",
    "Functions such as tf.constant, tf.placeholder, tf.matmul, tf.add, etc. register **operations** to the default graph and return a **tensor**. \n",
    "Tensors are symbols, not actual data. The actual data lives only within the run() call of a **session**.\n",
    "<br>\n",
    "**Variables**, obtained by tf.get_variable, are persistent and must be initialized.\n",
    "Use variables for parameters of parametric machine learning models. "
   ]
  }
 ],
 "metadata": {
  "kernelspec": {
   "display_name": "Python 3",
   "language": "python",
   "name": "python3"
  },
  "language_info": {
   "codemirror_mode": {
    "name": "ipython",
    "version": 3
   },
   "file_extension": ".py",
   "mimetype": "text/x-python",
   "name": "python",
   "nbconvert_exporter": "python",
   "pygments_lexer": "ipython3",
   "version": "3.6.5"
  }
 },
 "nbformat": 4,
 "nbformat_minor": 2
}
