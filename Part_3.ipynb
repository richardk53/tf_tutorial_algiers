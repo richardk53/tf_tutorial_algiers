{
 "cells": [
  {
   "cell_type": "markdown",
   "metadata": {},
   "source": [
    "# Part 3 - keras, distributions, optimizers, tensorboard, saving"
   ]
  },
  {
   "cell_type": "markdown",
   "metadata": {},
   "source": [
    "Now that we have implemented and trained a model from scratch, we are ready introduce a few useful high-level API and utilities that reduce boilerplate coding. "
   ]
  },
  {
   "cell_type": "code",
   "execution_count": 18,
   "metadata": {},
   "outputs": [],
   "source": [
    "import tensorflow as tf\n",
    "from tensorflow.examples.tutorials.mnist import input_data\n",
    "import matplotlib.pyplot as plt\n",
    "import numpy as np\n",
    "import os\n",
    "import datetime"
   ]
  },
  {
   "cell_type": "markdown",
   "metadata": {},
   "source": [
    "## Hyperparams & constants"
   ]
  },
  {
   "cell_type": "code",
   "execution_count": 2,
   "metadata": {},
   "outputs": [],
   "source": [
    "dim_in, dim_out = 784, 10\n",
    "dims_hidden = [128, 128]\n",
    "activations_hidden = [\"tanh\", \"tanh\"]\n",
    "batch_size = 128\n",
    "learning_rate = 1e-3\n",
    "\n",
    "num_iterations_train = 20000\n",
    "\n",
    "now = datetime.datetime.now().strftime('%Y-%m-%d-%H-%M-%S')\n",
    "log_path = os.path.join(\"logs\", now)"
   ]
  },
  {
   "cell_type": "code",
   "execution_count": 3,
   "metadata": {},
   "outputs": [],
   "source": [
    "os.makedirs(log_path, exist_ok=True)"
   ]
  },
  {
   "cell_type": "markdown",
   "metadata": {},
   "source": [
    "## Data"
   ]
  },
  {
   "cell_type": "code",
   "execution_count": 19,
   "metadata": {},
   "outputs": [
    {
     "name": "stdout",
     "output_type": "stream",
     "text": [
      "Extracting data/MNIST/train-images-idx3-ubyte.gz\n",
      "Extracting data/MNIST/train-labels-idx1-ubyte.gz\n",
      "Extracting data/MNIST/t10k-images-idx3-ubyte.gz\n",
      "Extracting data/MNIST/t10k-labels-idx1-ubyte.gz\n"
     ]
    }
   ],
   "source": [
    "# This time we will use integer labels directly instead of one_hot. \n",
    "data = input_data.read_data_sets(\"data/MNIST/\", one_hot=False)  "
   ]
  },
  {
   "cell_type": "markdown",
   "metadata": {},
   "source": [
    "## Model"
   ]
  },
  {
   "cell_type": "code",
   "execution_count": 5,
   "metadata": {},
   "outputs": [],
   "source": [
    "class MLP():\n",
    "    \"\"\" Multi-Layer-Perceptron \"\"\"\n",
    "    def __init__(self, name: str, dim_in: int, dim_out: int, dims_hidden: list, activations_hidden: list):\n",
    "        self.name = name\n",
    "        \n",
    "        dims_in = [dim_in] + list(dims_hidden)  # [dim_in, hidden_1, hidden_2]\n",
    "        dims_out = list(dims_hidden) + [dim_out]  # [hidden_1, hidden_2, dim_out]\n",
    "        activations = list(activations_hidden) + [\"linear\"]\n",
    "        \n",
    "        self.layers = list()\n",
    "        with tf.variable_scope(name, reuse=False):\n",
    "            for idx_hidden, (d_in, d_out, activation) in enumerate(zip(dims_in, dims_out, activations)):\n",
    "                # Use heuristic for initializing model parameters.\n",
    "                kernel_initializer, bias_initializer = self.get_initializers_for(activation=activation)\n",
    "                # Use tf.keras.layers to build NN layers, creating variables (model params).\n",
    "                layer = tf.keras.layers.Dense(units=d_out, \n",
    "                                              activation=activation, \n",
    "                                              name=\"layer_{}\".format(idx_hidden), \n",
    "                                              kernel_initializer=kernel_initializer, \n",
    "                                              bias_initializer=bias_initializer,\n",
    "                                             )\n",
    "                layer.build(d_in)\n",
    "                self.layers.append(layer)\n",
    "\n",
    "    def __call__(self, x):\n",
    "        h = x\n",
    "        for layer in self.layers:\n",
    "            h = layer(h)\n",
    "        return h\n",
    "    \n",
    "    def get_initializers_for(self, activation: str, distribution: str = \"uniform\", mode : str = \"fan_in\"):\n",
    "        \"\"\" \n",
    "        Helper function to choose appropriate (heuristic) initialization method, \n",
    "        depending on the activation function. \n",
    "        \"\"\"\n",
    "        if not isinstance(activation, str):\n",
    "            activation = activation.__name__\n",
    "\n",
    "        if activation in [None, 'linear']:\n",
    "            scale = 1.0\n",
    "        elif activation is \"relu\":\n",
    "            scale = 2.0  \n",
    "        elif activation is \"tanh\":\n",
    "            scale = 1.32\n",
    "        else:\n",
    "            raise ValueError(\"unexpected activation function: {}\".format(activation))\n",
    "\n",
    "        kernel_initializer = tf.initializers.variance_scaling(\n",
    "            scale=scale,\n",
    "            mode=mode,\n",
    "            distribution=distribution,\n",
    "        )\n",
    "        bias_initializer = tf.initializers.constant(0.0)\n",
    "        return kernel_initializer, bias_initializer"
   ]
  },
  {
   "cell_type": "code",
   "execution_count": 6,
   "metadata": {},
   "outputs": [],
   "source": [
    "tf.reset_default_graph()  # Might be helpful, if you rebuild your model.\n",
    "\n",
    "# Batch size None means that batch size is define by the data provided by the feed_dict to session.run()\n",
    "labels = tf.placeholder(shape=[None], dtype=tf.int32, name=\"targets\")  \n",
    "inputs = tf.placeholder(shape=[None, dim_in], dtype=tf.float32, name=\"inputs\")\n",
    "model = MLP(name=\"MLP\", \n",
    "            dim_in=dim_in, \n",
    "            dim_out=dim_out,\n",
    "            dims_hidden=dims_hidden,  # last dimension is for output layer.\n",
    "            activations_hidden=activations_hidden,  # Output has no activation function.\n",
    "           )\n",
    "outputs = model(inputs) "
   ]
  },
  {
   "cell_type": "markdown",
   "metadata": {},
   "source": [
    "**Note:** I strongly recommend to use tf.distributions. \n",
    "This way, you are explicit about your assumptions about the data distribution. \n",
    "Furthermore, your loss function directly follows from these assumptions. "
   ]
  },
  {
   "cell_type": "code",
   "execution_count": 7,
   "metadata": {},
   "outputs": [],
   "source": [
    "def get_accuracy(logits, labels):\n",
    "    with tf.name_scope(\"accuracy\"): \n",
    "        correct_prediction = tf.equal(tf.cast(tf.argmax(logits, axis=-1), tf.int32), labels)\n",
    "        accuracy = tf.reduce_mean(tf.cast(correct_prediction, tf.float32))\n",
    "    return accuracy\n",
    "\n",
    "def get_loglikelihood(logits, labels):\n",
    "    likelihood_dist = tf.distributions.Categorical(  # tf.contrib.distributions.OneHotCategorical\n",
    "        logits=logits, name=\"predicted_labels\")  \n",
    "    with tf.name_scope(\"log-likelihood\"):\n",
    "        loglikelihood = tf.reduce_sum(likelihood_dist.log_prob(labels))  \n",
    "    return loglikelihood"
   ]
  },
  {
   "cell_type": "code",
   "execution_count": 8,
   "metadata": {},
   "outputs": [],
   "source": [
    "loss = - get_loglikelihood(logits=outputs, labels=labels)\n",
    "accuracy = get_accuracy(logits=outputs, labels=labels)\n",
    "\n",
    "optimizer = tf.train.AdamOptimizer(learning_rate=learning_rate)\n",
    "train_step = optimizer.minimize(loss)"
   ]
  },
  {
   "cell_type": "markdown",
   "metadata": {},
   "source": [
    "### Inspect model on tensorboard"
   ]
  },
  {
   "cell_type": "code",
   "execution_count": 9,
   "metadata": {},
   "outputs": [],
   "source": [
    "# To visualize the graph on Tensorboard, we must add it to the summaries.\n",
    "summary_writer = tf.summary.FileWriter(log_path)\n",
    "summary_writer.add_graph(tf.get_default_graph())\n",
    " \n",
    "# We can do the same in one line, by passing the graph to the constructor of the FileWriter\n",
    "# tf.summary.FileWriter(log_path, tf.get_default_graph())"
   ]
  },
  {
   "cell_type": "code",
   "execution_count": 10,
   "metadata": {},
   "outputs": [
    {
     "name": "stdout",
     "output_type": "stream",
     "text": [
      "Graph collections, BEFORE we added our summaries: [('__variable_store',), ('__varscope',), 'trainable_variables', 'variables', 'update_ops', 'train_op']\n",
      "Graph collections, AFTER we added our summaries: [('__variable_store',), ('__varscope',), 'trainable_variables', 'variables', 'update_ops', 'train_op', 'validation_summaries']\n",
      "We should have a summary key: validation_summaries\n"
     ]
    }
   ],
   "source": [
    "# We can also add some other useful statistics to tensorboard and log them periodically (during training).\n",
    "# We do this by creating a unique \"summary_key\" (just a string), which we add to the graph collections.\n",
    "print(\"Graph collections, BEFORE we added our summaries: {}\".format(\n",
    "    tf.get_default_graph().collections))\n",
    "validation_summary_key = tf.get_default_graph().unique_name(\"validation_summaries\")\n",
    "\n",
    "# Add loss to our summaries key in the graph collections\n",
    "tf.summary.scalar(\"loss\", loss, collections=[validation_summary_key])\n",
    "\n",
    "# Let's also add some gradient statistics. This is often useful for debugging\n",
    "variables = tf.get_collection(tf.GraphKeys.TRAINABLE_VARIABLES)\n",
    "gradients = tf.gradients(loss, variables)\n",
    "for var, grad in zip(variables, gradients):\n",
    "    tf.summary.histogram(name=\"gradient/\" + var.name.replace(':', '/'), \n",
    "                         values=grad, \n",
    "                         collections=[validation_summary_key])\n",
    "    tf.summary.scalar(name=\"gradient_norm/\" + var.name.replace(':', '/'),\n",
    "                      tensor=tf.norm(grad), \n",
    "                      collections=[validation_summary_key])\n",
    "    \n",
    "    tf.summary.histogram(name=\"parameter/\" + var.name.replace(':', '/'), \n",
    "                         values=var, \n",
    "                         collections=[validation_summary_key])\n",
    "    tf.summary.scalar(name=\"parameter_norm/\" + var.name.replace(':', '/'),\n",
    "                      tensor=tf.norm(var), \n",
    "                      collections=[validation_summary_key])\n",
    "\n",
    "# Let's make one summary, that we can run with as a single operation. (summarize is an operation)\n",
    "validation_summaries = tf.summary.merge_all(key=validation_summary_key)\n",
    "\n",
    "print(\"Graph collections, AFTER we added our summaries: {}\".format(\n",
    "    tf.get_default_graph().collections))\n",
    "print(\"We should have a summary key: {}\".format(validation_summary_key))"
   ]
  },
  {
   "cell_type": "markdown",
   "metadata": {},
   "source": [
    "In your terminal do: \n",
    "<br>\n",
    "tensorboard --logdir=PATH_TO_LOG_FOLDER"
   ]
  },
  {
   "cell_type": "code",
   "execution_count": 11,
   "metadata": {},
   "outputs": [],
   "source": [
    "saver = tf.train.Saver(tf.get_collection(tf.GraphKeys.GLOBAL_VARIABLES))\n",
    "sess = tf.Session()\n",
    "sess.run(tf.global_variables_initializer()) # Initializes weights and biases."
   ]
  },
  {
   "cell_type": "code",
   "execution_count": 12,
   "metadata": {},
   "outputs": [
    {
     "name": "stdout",
     "output_type": "stream",
     "text": [
      "iter 0 / 20000, validation accuracy = 0.20720000565052032, loss = 11054.6796875\n",
      "iter 500 / 20000, validation accuracy = 0.9521999955177307, loss = 883.8612670898438\n",
      "iter 1000 / 20000, validation accuracy = 0.9613999724388123, loss = 640.322509765625\n",
      "iter 1500 / 20000, validation accuracy = 0.9724000096321106, loss = 508.406494140625\n",
      "iter 2000 / 20000, validation accuracy = 0.9761999845504761, loss = 410.9713134765625\n",
      "iter 2500 / 20000, validation accuracy = 0.9760000109672546, loss = 388.98956298828125\n",
      "iter 3000 / 20000, validation accuracy = 0.9778000116348267, loss = 360.44830322265625\n",
      "iter 3500 / 20000, validation accuracy = 0.9778000116348267, loss = 361.4862976074219\n",
      "iter 4000 / 20000, validation accuracy = 0.9789999723434448, loss = 338.4256591796875\n",
      "iter 4500 / 20000, validation accuracy = 0.978600025177002, loss = 366.88873291015625\n",
      "iter 5000 / 20000, validation accuracy = 0.9753999710083008, loss = 417.20562744140625\n",
      "iter 5500 / 20000, validation accuracy = 0.977400004863739, loss = 392.274169921875\n",
      "iter 6000 / 20000, validation accuracy = 0.9775999784469604, loss = 404.4076843261719\n",
      "iter 6500 / 20000, validation accuracy = 0.9782000184059143, loss = 384.9930419921875\n",
      "iter 7000 / 20000, validation accuracy = 0.9800000190734863, loss = 352.81488037109375\n",
      "iter 7500 / 20000, validation accuracy = 0.9750000238418579, loss = 499.43316650390625\n",
      "iter 8000 / 20000, validation accuracy = 0.9797999858856201, loss = 391.086669921875\n",
      "iter 8500 / 20000, validation accuracy = 0.9814000129699707, loss = 379.5185546875\n",
      "iter 9000 / 20000, validation accuracy = 0.9768000245094299, loss = 515.0635375976562\n",
      "iter 9500 / 20000, validation accuracy = 0.9764000177383423, loss = 433.2519226074219\n",
      "iter 10000 / 20000, validation accuracy = 0.9810000061988831, loss = 426.7303466796875\n",
      "iter 10500 / 20000, validation accuracy = 0.9797999858856201, loss = 424.140869140625\n",
      "iter 11000 / 20000, validation accuracy = 0.9801999926567078, loss = 373.26409912109375\n",
      "iter 11500 / 20000, validation accuracy = 0.9807999730110168, loss = 369.9107971191406\n",
      "iter 12000 / 20000, validation accuracy = 0.9810000061988831, loss = 376.5966796875\n",
      "iter 12500 / 20000, validation accuracy = 0.9810000061988831, loss = 380.9972839355469\n",
      "iter 13000 / 20000, validation accuracy = 0.9818000197410583, loss = 389.2608947753906\n",
      "iter 13500 / 20000, validation accuracy = 0.9805999994277954, loss = 392.82501220703125\n",
      "iter 14000 / 20000, validation accuracy = 0.980400025844574, loss = 397.36920166015625\n",
      "iter 14500 / 20000, validation accuracy = 0.9807999730110168, loss = 406.9919128417969\n",
      "iter 15000 / 20000, validation accuracy = 0.9811999797821045, loss = 409.78057861328125\n",
      "iter 15500 / 20000, validation accuracy = 0.973800003528595, loss = 632.538818359375\n",
      "iter 16000 / 20000, validation accuracy = 0.9811999797821045, loss = 440.605712890625\n",
      "iter 16500 / 20000, validation accuracy = 0.9832000136375427, loss = 418.572509765625\n",
      "iter 17000 / 20000, validation accuracy = 0.9836000204086304, loss = 420.825439453125\n",
      "iter 17500 / 20000, validation accuracy = 0.9833999872207642, loss = 416.5472412109375\n",
      "iter 18000 / 20000, validation accuracy = 0.9836000204086304, loss = 420.67822265625\n",
      "iter 18500 / 20000, validation accuracy = 0.9829999804496765, loss = 422.673583984375\n",
      "iter 19000 / 20000, validation accuracy = 0.9829999804496765, loss = 426.5345153808594\n",
      "iter 19500 / 20000, validation accuracy = 0.9829999804496765, loss = 428.0065002441406\n",
      "iter 19999 / 20000, validation accuracy = 0.9824000000953674, loss = 437.66796875\n"
     ]
    }
   ],
   "source": [
    "best_val_accuracy = -np.inf\n",
    "for iter_train in range(num_iterations_train):  \n",
    "    batch_inputs, batch_labels = data.train.next_batch(batch_size=batch_size, shuffle=True)\n",
    "    feed_dict = {inputs: batch_inputs, labels: batch_labels}\n",
    "    sess.run(train_step, feed_dict=feed_dict)  \n",
    "        \n",
    "    if iter_train % 500 == 0 or iter_train == num_iterations_train - 1:  # Validate\n",
    "        feed_dict = {inputs: data.validation.images, labels: data.validation.labels}\n",
    "        val_summary, val_loss, val_accuracy = sess.run(\n",
    "            [validation_summaries, loss, accuracy], feed_dict=feed_dict)\n",
    "        print(\"iter {} / {}, validation accuracy = {}, loss = {}\".format(\n",
    "            iter_train, num_iterations_train, val_accuracy, val_loss))\n",
    "        \n",
    "        # Log summaries to TB (val loss, gradient norm, gradient histogram)\n",
    "        summary_writer.add_summary(val_summary, iter_train)\n",
    "        \n",
    "        # Save our session at every validation, in case our program stops.\n",
    "        saver.save(sess=sess, save_path=os.path.join(log_path, \"session\"))\n",
    "        # Let's also save the current best model somewhere else.\n",
    "        if val_accuracy > best_val_accuracy:\n",
    "            best_val_accuracy = val_accuracy\n",
    "            saver.save(sess=sess, save_path=os.path.join(log_path, \"best_model\", \"session\"))"
   ]
  },
  {
   "cell_type": "code",
   "execution_count": 13,
   "metadata": {},
   "outputs": [],
   "source": [
    "def get_test_accuracy():\n",
    "    test_accuracies = list()\n",
    "    data.test._index_in_epoch = 0 \n",
    "    for iter_test in range(int(data.test.num_examples / batch_size)):  # Do 10k iterations of gradient descent\n",
    "        batch_inputs, batch_labels = data.test.next_batch(batch_size=batch_size, shuffle=False)\n",
    "        feed_dict = {inputs:batch_inputs, labels: batch_labels}\n",
    "        test_accuracies.append(sess.run(accuracy, feed_dict=feed_dict))\n",
    "    test_accuracy = np.mean(test_accuracies)\n",
    "    print(\"Test accuracy is: {}\".format(test_accuracy))\n",
    "    return test_accuracy"
   ]
  },
  {
   "cell_type": "code",
   "execution_count": 14,
   "metadata": {},
   "outputs": [
    {
     "name": "stdout",
     "output_type": "stream",
     "text": [
      "Test accuracy is: 0.9801682829856873\n"
     ]
    }
   ],
   "source": [
    "test_accuracy_model = get_test_accuracy()"
   ]
  },
  {
   "cell_type": "markdown",
   "metadata": {},
   "source": [
    "### Restoring a saved model"
   ]
  },
  {
   "cell_type": "markdown",
   "metadata": {},
   "source": [
    "Saving and restoring your model parameters is pretty simple using tf.train.Saver.\n",
    "We have already created the saver object, where we provided all variables registered to the default graph. It is also possible to save only subsets of variables, such as all trainable variables (tf.GraphKeys.TRAINABLE_VARIABLES). "
   ]
  },
  {
   "cell_type": "code",
   "execution_count": 15,
   "metadata": {},
   "outputs": [
    {
     "name": "stdout",
     "output_type": "stream",
     "text": [
      "Test accuracy is: 0.0455729179084301\n"
     ]
    }
   ],
   "source": [
    "sess.run(tf.global_variables_initializer()) # Re-initialize (overwrite) model parameters\n",
    "test_accuracy_random = get_test_accuracy()"
   ]
  },
  {
   "cell_type": "code",
   "execution_count": 16,
   "metadata": {},
   "outputs": [
    {
     "name": "stdout",
     "output_type": "stream",
     "text": [
      "INFO:tensorflow:Restoring parameters from logs/2018-06-25-10-10-54/session\n",
      "Test accuracy is: 0.9801682829856873\n"
     ]
    }
   ],
   "source": [
    "saver.restore(sess, os.path.join(log_path, \"session\"))\n",
    "test_accuracy_model = get_test_accuracy()"
   ]
  },
  {
   "cell_type": "code",
   "execution_count": 17,
   "metadata": {},
   "outputs": [
    {
     "name": "stdout",
     "output_type": "stream",
     "text": [
      "INFO:tensorflow:Restoring parameters from logs/2018-06-25-10-10-54/best_model/session\n",
      "Test accuracy is: 0.9810696840286255\n"
     ]
    }
   ],
   "source": [
    "saver.restore(sess, os.path.join(log_path, \"best_model\", \"session\"))  # Load model that performed best on val set\n",
    "test_accuracy_model = get_test_accuracy()"
   ]
  },
  {
   "cell_type": "markdown",
   "metadata": {},
   "source": [
    "Restoring the model was very simple, since our default graph still had all variables registered.\n",
    "<br>\n",
    "Otherwise, we must first build the same model with the same variable names, and then load the stored variables.\n",
    "<br>\n",
    "Try restarting the kernel of this notebook.\n",
    "Then run the code that builds the model, create the saver, and last run the previous cells to load the model. "
   ]
  }
 ],
 "metadata": {
  "kernelspec": {
   "display_name": "Python 3",
   "language": "python",
   "name": "python3"
  },
  "language_info": {
   "codemirror_mode": {
    "name": "ipython",
    "version": 3
   },
   "file_extension": ".py",
   "mimetype": "text/x-python",
   "name": "python",
   "nbconvert_exporter": "python",
   "pygments_lexer": "ipython3",
   "version": "3.6.5"
  }
 },
 "nbformat": 4,
 "nbformat_minor": 2
}
